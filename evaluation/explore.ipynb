{
 "cells": [
  {
   "cell_type": "code",
   "execution_count": 65,
   "id": "ffcb7c16",
   "metadata": {},
   "outputs": [
    {
     "data": {
      "text/html": [
       "<div>\n",
       "<style scoped>\n",
       "    .dataframe tbody tr th:only-of-type {\n",
       "        vertical-align: middle;\n",
       "    }\n",
       "\n",
       "    .dataframe tbody tr th {\n",
       "        vertical-align: top;\n",
       "    }\n",
       "\n",
       "    .dataframe thead th {\n",
       "        text-align: right;\n",
       "    }\n",
       "</style>\n",
       "<table border=\"1\" class=\"dataframe\">\n",
       "  <thead>\n",
       "    <tr style=\"text-align: right;\">\n",
       "      <th></th>\n",
       "      <th>Title</th>\n",
       "      <th>FullText</th>\n",
       "      <th>Author</th>\n",
       "      <th>Url</th>\n",
       "      <th>Date</th>\n",
       "      <th>label</th>\n",
       "      <th>source</th>\n",
       "    </tr>\n",
       "  </thead>\n",
       "  <tbody>\n",
       "    <tr>\n",
       "      <th>0</th>\n",
       "      <td>5 Pemeran Penting Jurassic World Rebirth dan K...</td>\n",
       "      <td>Jurassic World Rebirthmenjadi saga terbaru dar...</td>\n",
       "      <td>Penulis tidak ditemukan</td>\n",
       "      <td>https://www.cnnindonesia.com/hiburan/202507071...</td>\n",
       "      <td>2025/07/08 06:31:08</td>\n",
       "      <td>0</td>\n",
       "      <td>cnnindonesia_scraped_08072025.csv</td>\n",
       "    </tr>\n",
       "    <tr>\n",
       "      <th>1</th>\n",
       "      <td>[HOAX] “Panglima TNI yang Baru Marsekal Hadi T...</td>\n",
       "      <td>“Sudah diklarifikasi melalui akun Twitter @_TN...</td>\n",
       "      <td>Bentang Febrylian</td>\n",
       "      <td>https://turnbackhoax.id/2017/12/11/hoax-pangli...</td>\n",
       "      <td>Desember 11, 2017</td>\n",
       "      <td>1</td>\n",
       "      <td>turnbackhoax</td>\n",
       "    </tr>\n",
       "    <tr>\n",
       "      <th>2</th>\n",
       "      <td>[SALAH] Warga MB Ketapang Kotawaringin Timur S...</td>\n",
       "      <td>Warga\\nwilayah Kecamatan MB Ketapang, Kabupate...</td>\n",
       "      <td>Bentang Febrylian</td>\n",
       "      <td>https://turnbackhoax.id/2020/05/13/salah-warga...</td>\n",
       "      <td>Mei 13, 2020</td>\n",
       "      <td>1</td>\n",
       "      <td>turnbackhoax</td>\n",
       "    </tr>\n",
       "    <tr>\n",
       "      <th>3</th>\n",
       "      <td>[BERITA] “Viral Karnaval TK Bercadar dan ‘Bers...</td>\n",
       "      <td>“Sabtu 18 Agustus 2018, 18:28 WIB\\nViral Karna...</td>\n",
       "      <td>Aribowo Sasmito</td>\n",
       "      <td>https://turnbackhoax.id/2018/08/19/berita-vira...</td>\n",
       "      <td>Agustus 19, 2018</td>\n",
       "      <td>1</td>\n",
       "      <td>turnbackhoax</td>\n",
       "    </tr>\n",
       "    <tr>\n",
       "      <th>4</th>\n",
       "      <td>Diduga Jadi Mata-mata, 2 WN China Ditangkap FB...</td>\n",
       "      <td>FBImenangkap dua warga negara China di Amerika...</td>\n",
       "      <td>Yogi Ernes</td>\n",
       "      <td>https://news.detik.com/internasional/d-7991528...</td>\n",
       "      <td>2025/07/02 04:57:01</td>\n",
       "      <td>0</td>\n",
       "      <td>detik_scraped_02072025.csv</td>\n",
       "    </tr>\n",
       "  </tbody>\n",
       "</table>\n",
       "</div>"
      ],
      "text/plain": [
       "                                               Title  \\\n",
       "0  5 Pemeran Penting Jurassic World Rebirth dan K...   \n",
       "1  [HOAX] “Panglima TNI yang Baru Marsekal Hadi T...   \n",
       "2  [SALAH] Warga MB Ketapang Kotawaringin Timur S...   \n",
       "3  [BERITA] “Viral Karnaval TK Bercadar dan ‘Bers...   \n",
       "4  Diduga Jadi Mata-mata, 2 WN China Ditangkap FB...   \n",
       "\n",
       "                                            FullText                   Author  \\\n",
       "0  Jurassic World Rebirthmenjadi saga terbaru dar...  Penulis tidak ditemukan   \n",
       "1  “Sudah diklarifikasi melalui akun Twitter @_TN...        Bentang Febrylian   \n",
       "2  Warga\\nwilayah Kecamatan MB Ketapang, Kabupate...        Bentang Febrylian   \n",
       "3  “Sabtu 18 Agustus 2018, 18:28 WIB\\nViral Karna...          Aribowo Sasmito   \n",
       "4  FBImenangkap dua warga negara China di Amerika...               Yogi Ernes   \n",
       "\n",
       "                                                 Url                 Date  \\\n",
       "0  https://www.cnnindonesia.com/hiburan/202507071...  2025/07/08 06:31:08   \n",
       "1  https://turnbackhoax.id/2017/12/11/hoax-pangli...    Desember 11, 2017   \n",
       "2  https://turnbackhoax.id/2020/05/13/salah-warga...         Mei 13, 2020   \n",
       "3  https://turnbackhoax.id/2018/08/19/berita-vira...     Agustus 19, 2018   \n",
       "4  https://news.detik.com/internasional/d-7991528...  2025/07/02 04:57:01   \n",
       "\n",
       "   label                             source  \n",
       "0      0  cnnindonesia_scraped_08072025.csv  \n",
       "1      1                       turnbackhoax  \n",
       "2      1                       turnbackhoax  \n",
       "3      1                       turnbackhoax  \n",
       "4      0         detik_scraped_02072025.csv  "
      ]
     },
     "execution_count": 65,
     "metadata": {},
     "output_type": "execute_result"
    }
   ],
   "source": [
    "import pandas as pd\n",
    "\n",
    "# Load dataset\n",
    "df = pd.read_csv('../rawdata/combine.csv')\n",
    "\n",
    "# Tampilkan 5 baris pertama\n",
    "df.head()\n"
   ]
  },
  {
   "cell_type": "code",
   "execution_count": 66,
   "id": "7bfacdfd",
   "metadata": {},
   "outputs": [
    {
     "name": "stdout",
     "output_type": "stream",
     "text": [
      "Jumlah baris: 16000\n",
      "Jumlah kolom: 7\n",
      "<class 'pandas.core.frame.DataFrame'>\n",
      "RangeIndex: 16000 entries, 0 to 15999\n",
      "Data columns (total 7 columns):\n",
      " #   Column    Non-Null Count  Dtype \n",
      "---  ------    --------------  ----- \n",
      " 0   Title     16000 non-null  object\n",
      " 1   FullText  16000 non-null  object\n",
      " 2   Author    15886 non-null  object\n",
      " 3   Url       16000 non-null  object\n",
      " 4   Date      8607 non-null   object\n",
      " 5   label     16000 non-null  int64 \n",
      " 6   source    16000 non-null  object\n",
      "dtypes: int64(1), object(6)\n",
      "memory usage: 875.1+ KB\n"
     ]
    },
    {
     "data": {
      "text/html": [
       "<div>\n",
       "<style scoped>\n",
       "    .dataframe tbody tr th:only-of-type {\n",
       "        vertical-align: middle;\n",
       "    }\n",
       "\n",
       "    .dataframe tbody tr th {\n",
       "        vertical-align: top;\n",
       "    }\n",
       "\n",
       "    .dataframe thead th {\n",
       "        text-align: right;\n",
       "    }\n",
       "</style>\n",
       "<table border=\"1\" class=\"dataframe\">\n",
       "  <thead>\n",
       "    <tr style=\"text-align: right;\">\n",
       "      <th></th>\n",
       "      <th>label</th>\n",
       "    </tr>\n",
       "  </thead>\n",
       "  <tbody>\n",
       "    <tr>\n",
       "      <th>count</th>\n",
       "      <td>16000.000000</td>\n",
       "    </tr>\n",
       "    <tr>\n",
       "      <th>mean</th>\n",
       "      <td>0.500000</td>\n",
       "    </tr>\n",
       "    <tr>\n",
       "      <th>std</th>\n",
       "      <td>0.500016</td>\n",
       "    </tr>\n",
       "    <tr>\n",
       "      <th>min</th>\n",
       "      <td>0.000000</td>\n",
       "    </tr>\n",
       "    <tr>\n",
       "      <th>25%</th>\n",
       "      <td>0.000000</td>\n",
       "    </tr>\n",
       "    <tr>\n",
       "      <th>50%</th>\n",
       "      <td>0.500000</td>\n",
       "    </tr>\n",
       "    <tr>\n",
       "      <th>75%</th>\n",
       "      <td>1.000000</td>\n",
       "    </tr>\n",
       "    <tr>\n",
       "      <th>max</th>\n",
       "      <td>1.000000</td>\n",
       "    </tr>\n",
       "  </tbody>\n",
       "</table>\n",
       "</div>"
      ],
      "text/plain": [
       "              label\n",
       "count  16000.000000\n",
       "mean       0.500000\n",
       "std        0.500016\n",
       "min        0.000000\n",
       "25%        0.000000\n",
       "50%        0.500000\n",
       "75%        1.000000\n",
       "max        1.000000"
      ]
     },
     "execution_count": 66,
     "metadata": {},
     "output_type": "execute_result"
    }
   ],
   "source": [
    "# Ukuran dataset\n",
    "print(f\"Jumlah baris: {df.shape[0]}\")\n",
    "print(f\"Jumlah kolom: {df.shape[1]}\")\n",
    "\n",
    "# Tipe data\n",
    "df.info()\n",
    "\n",
    "# Statistik deskriptif numerik\n",
    "df.describe()\n"
   ]
  },
  {
   "cell_type": "code",
   "execution_count": 67,
   "id": "57e3128d",
   "metadata": {},
   "outputs": [
    {
     "data": {
      "text/plain": [
       "Title          0\n",
       "FullText       0\n",
       "Author       114\n",
       "Url            0\n",
       "Date        7393\n",
       "label          0\n",
       "source         0\n",
       "dtype: int64"
      ]
     },
     "execution_count": 67,
     "metadata": {},
     "output_type": "execute_result"
    }
   ],
   "source": [
    "df.isnull().sum()"
   ]
  },
  {
   "cell_type": "code",
   "execution_count": 68,
   "id": "2894c353",
   "metadata": {},
   "outputs": [
    {
     "data": {
      "text/plain": [
       "<Axes: title={'center': 'Distribusi Label Hoaks vs Valid'}, xlabel='label'>"
      ]
     },
     "execution_count": 68,
     "metadata": {},
     "output_type": "execute_result"
    },
    {
     "data": {
      "image/png": "[encoded data removed]",
      "text/plain": [
       "<Figure size 640x480 with 1 Axes>"
      ]
     },
     "metadata": {},
     "output_type": "display_data"
    }
   ],
   "source": [
    "df['label'].value_counts().plot(kind='bar', title='Distribusi Label Hoaks vs Valid')"
   ]
  },
  {
   "cell_type": "code",
   "execution_count": 69,
   "id": "269bbcf6",
   "metadata": {},
   "outputs": [
    {
     "data": {
      "text/plain": [
       "Index(['Title', 'FullText', 'Author', 'Url', 'Date', 'label', 'source'], dtype='object')"
      ]
     },
     "execution_count": 69,
     "metadata": {},
     "output_type": "execute_result"
    }
   ],
   "source": [
    "df.columns"
   ]
  },
  {
   "cell_type": "code",
   "execution_count": 70,
   "id": "0ba1b5a9",
   "metadata": {},
   "outputs": [
    {
     "data": {
      "image/png": "[encoded data removed]",
      "text/plain": [
       "<Figure size 640x480 with 1 Axes>"
      ]
     },
     "metadata": {},
     "output_type": "display_data"
    }
   ],
   "source": [
    "# Tambah kolom panjang isi\n",
    "df['panjang_isi'] = df['FullText'].astype(str).apply(len)\n",
    "\n",
    "# Statistik panjang isi\n",
    "df['panjang_isi'].describe()\n",
    "\n",
    "# Visualisasi\n",
    "import seaborn as sns\n",
    "import matplotlib.pyplot as plt\n",
    "\n",
    "sns.histplot(df['panjang_isi'], kde=True)\n",
    "plt.title('Distribusi Panjang Isi Berita')\n",
    "plt.show()\n"
   ]
  },
  {
   "cell_type": "code",
   "execution_count": 71,
   "id": "0f1aabae",
   "metadata": {},
   "outputs": [
    {
     "data": {
      "text/plain": [
       "0"
      ]
     },
     "execution_count": 71,
     "metadata": {},
     "output_type": "execute_result"
    }
   ],
   "source": [
    "df.duplicated().sum()"
   ]
  },
  {
   "cell_type": "code",
   "execution_count": 72,
   "id": "709d5140",
   "metadata": {},
   "outputs": [
    {
     "name": "stdout",
     "output_type": "stream",
     "text": [
      "[('yang', 139735), ('di', 98712), ('dan', 95269), ('dengan', 51192), ('itu', 48821), ('dari', 45601), ('ini', 42376), ('tidak', 41993), ('dalam', 40876), ('untuk', 39728), ('pada', 38620), ('tersebut', 37302), ('juga', 35122), ('ada', 25156), ('indonesia', 23073), ('akan', 22950), ('partai', 22877), ('ke', 22014), ('oleh', 21802), ('bahwa', 20804)]\n"
     ]
    }
   ],
   "source": [
    "from collections import Counter\n",
    "import re\n",
    "\n",
    "def bersihkan(text):\n",
    "    text = str(text).lower()\n",
    "    text = re.sub(r'[^a-z\\s]', '', text)\n",
    "    return text\n",
    "\n",
    "# Gabungkan semua teks\n",
    "all_text = ' '.join(df['FullText'].dropna().apply(bersihkan))\n",
    "\n",
    "# Hitung kata terbanyak\n",
    "kata_terbanyak = Counter(all_text.split()).most_common(20)\n",
    "print(kata_terbanyak)\n"
   ]
  }
 ],
 "metadata": {
  "kernelspec": {
   "display_name": "base",
   "language": "python",
   "name": "python3"
  },
  "language_info": {
   "codemirror_mode": {
    "name": "ipython",
    "version": 3
   },
   "file_extension": ".py",
   "mimetype": "text/x-python",
   "name": "python",
   "nbconvert_exporter": "python",
   "pygments_lexer": "ipython3",
   "version": "3.12.7"
  }
 },
 "nbformat": 4,
 "nbformat_minor": 5
}
